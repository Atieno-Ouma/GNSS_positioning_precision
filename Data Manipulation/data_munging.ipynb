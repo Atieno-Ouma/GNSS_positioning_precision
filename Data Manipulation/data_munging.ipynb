{
 "cells": [
  {
   "cell_type": "code",
   "execution_count": 31,
   "metadata": {
    "collapsed": true,
    "ExecuteTime": {
     "end_time": "2023-10-19T12:25:06.900284Z",
     "start_time": "2023-10-19T12:25:06.899443Z"
    }
   },
   "outputs": [],
   "source": [
    "import pandas as pd\n",
    "import os"
   ]
  },
  {
   "cell_type": "code",
   "execution_count": 32,
   "outputs": [
    {
     "name": "stdout",
     "output_type": "stream",
     "text": [
      "GNSS_positioning_precition/Datasets/sdc2023/\n"
     ]
    }
   ],
   "source": [
    "dataset_path = \"GNSS_positioning_precition/Datasets/sdc2023/\"\n",
    "print(dataset_path)"
   ],
   "metadata": {
    "collapsed": false,
    "ExecuteTime": {
     "end_time": "2023-10-19T12:25:07.427958Z",
     "start_time": "2023-10-19T12:25:07.409091Z"
    }
   }
  },
  {
   "cell_type": "code",
   "execution_count": 33,
   "outputs": [],
   "source": [
    "def load_ground_truth(drive_id, phone_name):\n",
    "    file_path = os.path.join(dataset_path, \"train/\", drive_id, phone_name, \"ground_truth.csv\")\n",
    "    return pd.read_csv(file_path)"
   ],
   "metadata": {
    "collapsed": false,
    "ExecuteTime": {
     "end_time": "2023-10-19T12:25:07.939238Z",
     "start_time": "2023-10-19T12:25:07.935508Z"
    }
   }
  },
  {
   "cell_type": "code",
   "execution_count": 34,
   "outputs": [],
   "source": [
    "def load_gnss_data(drive_id, phone_name):\n",
    "    file_path = os.path.join(dataset_path, \"train/\", drive_id, phone_name, \"device_gnss.csv\")\n",
    "    return pd.read_csv(file_path)"
   ],
   "metadata": {
    "collapsed": false,
    "ExecuteTime": {
     "end_time": "2023-10-19T12:25:08.475222Z",
     "start_time": "2023-10-19T12:25:08.473281Z"
    }
   }
  },
  {
   "cell_type": "code",
   "execution_count": 35,
   "outputs": [],
   "source": [
    "def load_imu_data(drive_id, phone_name):\n",
    "    file_path = os.path.join(dataset_path, \"train/\", drive_id, phone_name, \"device_imu.csv\")\n",
    "    return pd.read_csv(file_path)"
   ],
   "metadata": {
    "collapsed": false,
    "ExecuteTime": {
     "end_time": "2023-10-19T12:25:08.886784Z",
     "start_time": "2023-10-19T12:25:08.881458Z"
    }
   }
  },
  {
   "cell_type": "code",
   "execution_count": 36,
   "outputs": [
    {
     "ename": "FileNotFoundError",
     "evalue": "[Errno 2] No such file or directory: 'GNSS_positioning_precition/Datasets/sdc2023/train/'",
     "output_type": "error",
     "traceback": [
      "\u001B[0;31m---------------------------------------------------------------------------\u001B[0m",
      "\u001B[0;31mFileNotFoundError\u001B[0m                         Traceback (most recent call last)",
      "Cell \u001B[0;32mIn[36], line 1\u001B[0m\n\u001B[0;32m----> 1\u001B[0m drive_ids \u001B[38;5;241m=\u001B[39m \u001B[43mos\u001B[49m\u001B[38;5;241;43m.\u001B[39;49m\u001B[43mlistdir\u001B[49m\u001B[43m(\u001B[49m\u001B[43mos\u001B[49m\u001B[38;5;241;43m.\u001B[39;49m\u001B[43mpath\u001B[49m\u001B[38;5;241;43m.\u001B[39;49m\u001B[43mjoin\u001B[49m\u001B[43m(\u001B[49m\u001B[43mdataset_path\u001B[49m\u001B[43m,\u001B[49m\u001B[43m \u001B[49m\u001B[38;5;124;43m\"\u001B[39;49m\u001B[38;5;124;43mtrain/\u001B[39;49m\u001B[38;5;124;43m\"\u001B[39;49m\u001B[43m)\u001B[49m\u001B[43m)\u001B[49m\n\u001B[1;32m      2\u001B[0m phone_names \u001B[38;5;241m=\u001B[39m os\u001B[38;5;241m.\u001B[39mlistdir(os\u001B[38;5;241m.\u001B[39mpath\u001B[38;5;241m.\u001B[39mjoin(dataset_path, \u001B[38;5;124m\"\u001B[39m\u001B[38;5;124mtrain/\u001B[39m\u001B[38;5;124m\"\u001B[39m, drive_ids[\u001B[38;5;241m0\u001B[39m]))\n",
      "\u001B[0;31mFileNotFoundError\u001B[0m: [Errno 2] No such file or directory: 'GNSS_positioning_precition/Datasets/sdc2023/train/'"
     ]
    }
   ],
   "source": [
    "drive_ids = os.listdir(os.path.join(dataset_path, \"train/\"))\n",
    "phone_names = os.listdir(os.path.join(dataset_path, \"train/\", drive_ids[0]))\n"
   ],
   "metadata": {
    "collapsed": false,
    "ExecuteTime": {
     "end_time": "2023-10-19T12:25:43.203250Z",
     "start_time": "2023-10-19T12:25:43.041730Z"
    }
   }
  },
  {
   "cell_type": "code",
   "execution_count": 21,
   "outputs": [
    {
     "ename": "NameError",
     "evalue": "name 'drive_ids' is not defined",
     "output_type": "error",
     "traceback": [
      "\u001B[0;31m---------------------------------------------------------------------------\u001B[0m",
      "\u001B[0;31mNameError\u001B[0m                                 Traceback (most recent call last)",
      "Cell \u001B[0;32mIn[21], line 1\u001B[0m\n\u001B[0;32m----> 1\u001B[0m selected_drive_id \u001B[38;5;241m=\u001B[39m \u001B[43mdrive_ids\u001B[49m[\u001B[38;5;241m0\u001B[39m]\n\u001B[1;32m      2\u001B[0m selected_phone_name \u001B[38;5;241m=\u001B[39m phone_names[\u001B[38;5;241m0\u001B[39m]\n",
      "\u001B[0;31mNameError\u001B[0m: name 'drive_ids' is not defined"
     ]
    }
   ],
   "source": [
    "selected_drive_id = drive_ids[0]\n",
    "selected_phone_name = phone_names[0]"
   ],
   "metadata": {
    "collapsed": false,
    "ExecuteTime": {
     "end_time": "2023-10-19T12:19:47.268998Z",
     "start_time": "2023-10-19T12:19:47.265935Z"
    }
   }
  },
  {
   "cell_type": "code",
   "execution_count": null,
   "outputs": [],
   "source": [
    "ground_truth_data = load_ground_truth(selected_drive_id, selected_phone_name)\n",
    "gnss_data = load_gnss_data(selected_drive_id, selected_phone_name)\n",
    "imu_data = load_imu_data(selected_drive_id, selected_phone_name)"
   ],
   "metadata": {
    "collapsed": false
   }
  },
  {
   "cell_type": "code",
   "execution_count": null,
   "outputs": [],
   "source": [
    "print(\"Ground Truth Data:\")\n",
    "print(ground_truth_data.head())"
   ],
   "metadata": {
    "collapsed": false
   }
  },
  {
   "cell_type": "code",
   "execution_count": null,
   "outputs": [],
   "source": [
    "print(\"\\nGNSS Data:\")\n",
    "print(gnss_data.head())"
   ],
   "metadata": {
    "collapsed": false
   }
  },
  {
   "cell_type": "code",
   "execution_count": null,
   "outputs": [],
   "source": [
    "print(\"\\nIMU Data:\")\n",
    "print(imu_data.head())"
   ],
   "metadata": {
    "collapsed": false
   }
  }
 ],
 "metadata": {
  "kernelspec": {
   "display_name": "Python 3",
   "language": "python",
   "name": "python3"
  },
  "language_info": {
   "codemirror_mode": {
    "name": "ipython",
    "version": 2
   },
   "file_extension": ".py",
   "mimetype": "text/x-python",
   "name": "python",
   "nbconvert_exporter": "python",
   "pygments_lexer": "ipython2",
   "version": "2.7.6"
  }
 },
 "nbformat": 4,
 "nbformat_minor": 0
}
