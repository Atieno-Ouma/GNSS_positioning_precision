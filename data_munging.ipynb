{
 "cells": [
  {
   "cell_type": "code",
   "execution_count": 12,
   "metadata": {
    "collapsed": true,
    "ExecuteTime": {
     "end_time": "2023-10-23T06:25:25.893483Z",
     "start_time": "2023-10-23T06:25:25.890300Z"
    }
   },
   "outputs": [],
   "source": [
    "import pandas as pd\n",
    "import os"
   ]
  },
  {
   "cell_type": "code",
   "execution_count": 13,
   "outputs": [
    {
     "name": "stdout",
     "output_type": "stream",
     "text": [
      "Datasets/sdc2023/\n"
     ]
    }
   ],
   "source": [
    "dataset_path = \"Datasets/sdc2023/\"\n",
    "print(dataset_path)"
   ],
   "metadata": {
    "collapsed": false,
    "ExecuteTime": {
     "end_time": "2023-10-23T06:25:26.463575Z",
     "start_time": "2023-10-23T06:25:26.458119Z"
    }
   }
  },
  {
   "cell_type": "code",
   "execution_count": 14,
   "outputs": [],
   "source": [
    "def load_ground_truth(drive_id, phone_name):\n",
    "    file_path = os.path.join(dataset_path, \"train\", drive_id, phone_name, \"ground_truth.csv\")\n",
    "    return pd.read_csv(file_path)"
   ],
   "metadata": {
    "collapsed": false,
    "ExecuteTime": {
     "end_time": "2023-10-23T06:25:27.369371Z",
     "start_time": "2023-10-23T06:25:27.365524Z"
    }
   }
  },
  {
   "cell_type": "code",
   "execution_count": 15,
   "outputs": [],
   "source": [
    "def load_gnss_data(drive_id, phone_name):\n",
    "    file_path = os.path.join(dataset_path, \"train\", drive_id, phone_name, \"device_gnss.csv\")\n",
    "    return pd.read_csv(file_path)"
   ],
   "metadata": {
    "collapsed": false,
    "ExecuteTime": {
     "end_time": "2023-10-23T06:25:28.449779Z",
     "start_time": "2023-10-23T06:25:28.447325Z"
    }
   }
  },
  {
   "cell_type": "code",
   "execution_count": 16,
   "outputs": [],
   "source": [
    "def load_imu_data(drive_id, phone_name):\n",
    "    file_path = os.path.join(dataset_path, \"train\", drive_id, phone_name, \"device_imu.csv\")\n",
    "    return pd.read_csv(file_path)"
   ],
   "metadata": {
    "collapsed": false,
    "ExecuteTime": {
     "end_time": "2023-10-23T06:25:30.263378Z",
     "start_time": "2023-10-23T06:25:30.260173Z"
    }
   }
  },
  {
   "cell_type": "code",
   "execution_count": 17,
   "outputs": [],
   "source": [
    "drive_ids = os.listdir(os.path.join(dataset_path, \"train\"))\n",
    "phone_names = os.listdir(os.path.join(dataset_path, \"train\", drive_ids[0]))\n"
   ],
   "metadata": {
    "collapsed": false,
    "ExecuteTime": {
     "end_time": "2023-10-23T06:25:30.646207Z",
     "start_time": "2023-10-23T06:25:30.638891Z"
    }
   }
  },
  {
   "cell_type": "code",
   "execution_count": 18,
   "outputs": [],
   "source": [
    "selected_drive_id = drive_ids[0]\n",
    "selected_phone_name = phone_names[0]"
   ],
   "metadata": {
    "collapsed": false,
    "ExecuteTime": {
     "end_time": "2023-10-23T06:25:33.378440Z",
     "start_time": "2023-10-23T06:25:33.375947Z"
    }
   }
  },
  {
   "cell_type": "code",
   "execution_count": 19,
   "outputs": [],
   "source": [
    "ground_truth_data = load_ground_truth(selected_drive_id, selected_phone_name)\n",
    "gnss_data = load_gnss_data(selected_drive_id, selected_phone_name)\n",
    "imu_data = load_imu_data(selected_drive_id, selected_phone_name)"
   ],
   "metadata": {
    "collapsed": false,
    "ExecuteTime": {
     "end_time": "2023-10-23T06:25:35.543137Z",
     "start_time": "2023-10-23T06:25:34.772883Z"
    }
   }
  },
  {
   "cell_type": "code",
   "execution_count": null,
   "outputs": [],
   "source": [],
   "metadata": {
    "collapsed": false
   }
  },
  {
   "cell_type": "code",
   "execution_count": 20,
   "outputs": [
    {
     "name": "stdout",
     "output_type": "stream",
     "text": [
      "Ground Truth Data:\n",
      "  MessageType Provider  LatitudeDegrees  LongitudeDegrees  AltitudeMeters  \\\n",
      "0         Fix       GT        37.371197       -122.047715        9.706630   \n",
      "1         Fix       GT        37.371197       -122.047715        9.706630   \n",
      "2         Fix       GT        37.371197       -122.047715        9.706629   \n",
      "3         Fix       GT        37.371197       -122.047715        9.706630   \n",
      "4         Fix       GT        37.371197       -122.047715        9.706630   \n",
      "\n",
      "   SpeedMps  AccuracyMeters  BearingDegrees  UnixTimeMillis  SpeedAccuracyMps  \\\n",
      "0  0.001000             0.1       279.78412   1629837161437               NaN   \n",
      "1  0.001000             0.1       279.78406   1629837162437               NaN   \n",
      "2  0.001000             0.1       279.78406   1629837163437               NaN   \n",
      "3  0.001000             0.1       -80.21601   1629837164437               NaN   \n",
      "4  0.000627             0.1       279.78400   1629837165437               NaN   \n",
      "\n",
      "   BearingAccuracyDegrees  elapsedRealtimeNanos  VerticalAccuracyMeters  \n",
      "0                     NaN                   NaN                     NaN  \n",
      "1                     NaN                   NaN                     NaN  \n",
      "2                     NaN                   NaN                     NaN  \n",
      "3                     NaN                   NaN                     NaN  \n",
      "4                     NaN                   NaN                     NaN  \n"
     ]
    }
   ],
   "source": [
    "print(\"Ground Truth Data:\")\n",
    "print(ground_truth_data.head())"
   ],
   "metadata": {
    "collapsed": false,
    "ExecuteTime": {
     "end_time": "2023-10-23T06:25:37.515809Z",
     "start_time": "2023-10-23T06:25:37.509360Z"
    }
   }
  },
  {
   "cell_type": "code",
   "execution_count": 21,
   "outputs": [
    {
     "name": "stdout",
     "output_type": "stream",
     "text": [
      "\n",
      "GNSS Data:\n",
      "  MessageType  utcTimeMillis      TimeNanos  LeapSecond  TimeUncertaintyNanos  \\\n",
      "0         Raw  1629837160437  9567293000000          18                   NaN   \n",
      "1         Raw  1629837160437  9567293000000          18                   NaN   \n",
      "2         Raw  1629837160437  9567293000000          18                   NaN   \n",
      "3         Raw  1629837160437  9567293000000          18                   NaN   \n",
      "4         Raw  1629837160437  9567293000000          18                   NaN   \n",
      "\n",
      "         FullBiasNanos  BiasNanos  BiasUncertaintyNanos  DriftNanosPerSecond  \\\n",
      "0 -1313862811144299470  -0.216036             19.591458            -1.037198   \n",
      "1 -1313862811144299470  -0.216036             19.591458            -1.037198   \n",
      "2 -1313862811144299470  -0.216036             19.591458            -1.037198   \n",
      "3 -1313862811144299470  -0.216036             19.591458            -1.037198   \n",
      "4 -1313862811144299470  -0.216036             19.591458            -1.037198   \n",
      "\n",
      "   DriftUncertaintyNanosPerSecond  ...  SvVelocityYEcefMetersPerSecond  \\\n",
      "0                        9.865603  ...                    -2326.964800   \n",
      "1                        9.865603  ...                     -201.888922   \n",
      "2                        9.865603  ...                     -221.759284   \n",
      "3                        9.865603  ...                    -1352.897389   \n",
      "4                        9.865603  ...                     -179.916417   \n",
      "\n",
      "   SvVelocityZEcefMetersPerSecond  SvClockBiasMeters  \\\n",
      "0                     -155.775572      -10163.205451   \n",
      "1                     1793.270921      -56713.399881   \n",
      "2                    -3159.930235     -113671.042132   \n",
      "3                    -2558.317497       98824.035370   \n",
      "4                      245.405743       19929.392642   \n",
      "\n",
      "   SvClockDriftMetersPerSecond  IsrbMeters  IonosphericDelayMeters  \\\n",
      "0                    -0.000414         0.0                3.309843   \n",
      "1                    -0.001692         0.0                1.580264   \n",
      "2                    -0.001006         0.0                3.657168   \n",
      "3                    -0.001295         0.0                1.933147   \n",
      "4                    -0.001562         0.0                1.672696   \n",
      "\n",
      "   TroposphericDelayMeters  WlsPositionXEcefMeters  WlsPositionYEcefMeters  \\\n",
      "0                 7.496480           -2.692982e+06           -4.301689e+06   \n",
      "1                 2.688053           -2.692982e+06           -4.301689e+06   \n",
      "2                 9.694294           -2.692982e+06           -4.301689e+06   \n",
      "3                 3.352774           -2.692982e+06           -4.301689e+06   \n",
      "4                 2.868223           -2.692982e+06           -4.301689e+06   \n",
      "\n",
      "   WlsPositionZEcefMeters  \n",
      "0            3.850220e+06  \n",
      "1            3.850220e+06  \n",
      "2            3.850220e+06  \n",
      "3            3.850220e+06  \n",
      "4            3.850220e+06  \n",
      "\n",
      "[5 rows x 58 columns]\n"
     ]
    }
   ],
   "source": [
    "print(\"\\nGNSS Data:\")\n",
    "print(gnss_data.head())"
   ],
   "metadata": {
    "collapsed": false,
    "ExecuteTime": {
     "end_time": "2023-10-23T06:26:04.315561Z",
     "start_time": "2023-10-23T06:26:04.302219Z"
    }
   }
  },
  {
   "cell_type": "code",
   "execution_count": 22,
   "outputs": [
    {
     "name": "stdout",
     "output_type": "stream",
     "text": [
      "\n",
      "IMU Data:\n",
      "  MessageType  utcTimeMillis  elapsedRealtimeNanos  MeasurementX  \\\n",
      "0  UncalAccel  1629837160823                   NaN     -0.008375   \n",
      "1  UncalAccel  1629837160832                   NaN     -0.017946   \n",
      "2  UncalAccel  1629837160842                   NaN     -0.017946   \n",
      "3    UncalMag  1629837160844                   NaN    109.037500   \n",
      "4  UncalAccel  1629837160852                   NaN     -0.017946   \n",
      "\n",
      "   MeasurementY  MeasurementZ      BiasX      BiasY      BiasZ  \n",
      "0      9.801002     -1.496112   0.000000   0.000000   0.000000  \n",
      "1      9.872188     -1.573281   0.000000   0.000000   0.000000  \n",
      "2      9.872188     -1.573281   0.000000   0.000000   0.000000  \n",
      "3    -84.862500     31.487501  71.275276 -44.735287  27.316496  \n",
      "4      9.872188     -1.573281   0.000000   0.000000   0.000000  \n"
     ]
    }
   ],
   "source": [
    "print(\"\\nIMU Data:\")\n",
    "print(imu_data.head())"
   ],
   "metadata": {
    "collapsed": false,
    "ExecuteTime": {
     "end_time": "2023-10-23T06:26:06.031022Z",
     "start_time": "2023-10-23T06:26:06.026459Z"
    }
   }
  },
  {
   "cell_type": "code",
   "execution_count": 23,
   "outputs": [],
   "source": [
    "import matplotlib.pyplot as plt"
   ],
   "metadata": {
    "collapsed": false,
    "ExecuteTime": {
     "end_time": "2023-10-23T06:35:26.177579Z",
     "start_time": "2023-10-23T06:35:23.656707Z"
    }
   }
  },
  {
   "cell_type": "code",
   "execution_count": 24,
   "outputs": [
    {
     "data": {
      "text/plain": "<Figure size 1200x600 with 1 Axes>",
      "image/png": "[encoded data removed]"
     },
     "metadata": {},
     "output_type": "display_data"
    }
   ],
   "source": [
    "# Plot ground truth data\n",
    "plt.figure(figsize=(12, 6))\n",
    "plt.plot(ground_truth_data['UnixTimeMillis'], ground_truth_data['LatitudeDegrees'], label='Latitude')\n",
    "plt.plot(ground_truth_data['UnixTimeMillis'], ground_truth_data['LongitudeDegrees'], label='Longitude')\n",
    "plt.xlabel('Time (Unix Time in Milliseconds)')\n",
    "plt.ylabel('Latitude / Longitude')\n",
    "plt.title('Ground Truth Latitude and Longitude Over Time')\n",
    "plt.legend()\n",
    "plt.grid()\n",
    "plt.show()"
   ],
   "metadata": {
    "collapsed": false,
    "ExecuteTime": {
     "end_time": "2023-10-23T06:35:28.699073Z",
     "start_time": "2023-10-23T06:35:28.138314Z"
    }
   }
  },
  {
   "cell_type": "code",
   "execution_count": 25,
   "outputs": [
    {
     "ename": "KeyError",
     "evalue": "'UnixTimeMillis'",
     "output_type": "error",
     "traceback": [
      "\u001B[0;31m---------------------------------------------------------------------------\u001B[0m",
      "\u001B[0;31mKeyError\u001B[0m                                  Traceback (most recent call last)",
      "File \u001B[0;32m~/DataspellProjects/GNSS_positioning_precition/env/lib/python3.10/site-packages/pandas/core/indexes/base.py:3790\u001B[0m, in \u001B[0;36mIndex.get_loc\u001B[0;34m(self, key)\u001B[0m\n\u001B[1;32m   3789\u001B[0m \u001B[38;5;28;01mtry\u001B[39;00m:\n\u001B[0;32m-> 3790\u001B[0m     \u001B[38;5;28;01mreturn\u001B[39;00m \u001B[38;5;28;43mself\u001B[39;49m\u001B[38;5;241;43m.\u001B[39;49m\u001B[43m_engine\u001B[49m\u001B[38;5;241;43m.\u001B[39;49m\u001B[43mget_loc\u001B[49m\u001B[43m(\u001B[49m\u001B[43mcasted_key\u001B[49m\u001B[43m)\u001B[49m\n\u001B[1;32m   3791\u001B[0m \u001B[38;5;28;01mexcept\u001B[39;00m \u001B[38;5;167;01mKeyError\u001B[39;00m \u001B[38;5;28;01mas\u001B[39;00m err:\n",
      "File \u001B[0;32mindex.pyx:152\u001B[0m, in \u001B[0;36mpandas._libs.index.IndexEngine.get_loc\u001B[0;34m()\u001B[0m\n",
      "File \u001B[0;32mindex.pyx:181\u001B[0m, in \u001B[0;36mpandas._libs.index.IndexEngine.get_loc\u001B[0;34m()\u001B[0m\n",
      "File \u001B[0;32mpandas/_libs/hashtable_class_helper.pxi:7080\u001B[0m, in \u001B[0;36mpandas._libs.hashtable.PyObjectHashTable.get_item\u001B[0;34m()\u001B[0m\n",
      "File \u001B[0;32mpandas/_libs/hashtable_class_helper.pxi:7088\u001B[0m, in \u001B[0;36mpandas._libs.hashtable.PyObjectHashTable.get_item\u001B[0;34m()\u001B[0m\n",
      "\u001B[0;31mKeyError\u001B[0m: 'UnixTimeMillis'",
      "\nThe above exception was the direct cause of the following exception:\n",
      "\u001B[0;31mKeyError\u001B[0m                                  Traceback (most recent call last)",
      "Cell \u001B[0;32mIn[25], line 3\u001B[0m\n\u001B[1;32m      1\u001B[0m \u001B[38;5;66;03m# Plot GNSS data (you may want to choose specific columns for plotting)\u001B[39;00m\n\u001B[1;32m      2\u001B[0m plt\u001B[38;5;241m.\u001B[39mfigure(figsize\u001B[38;5;241m=\u001B[39m(\u001B[38;5;241m12\u001B[39m, \u001B[38;5;241m6\u001B[39m))\n\u001B[0;32m----> 3\u001B[0m plt\u001B[38;5;241m.\u001B[39mplot(\u001B[43mgnss_data\u001B[49m\u001B[43m[\u001B[49m\u001B[38;5;124;43m'\u001B[39;49m\u001B[38;5;124;43mUnixTimeMillis\u001B[39;49m\u001B[38;5;124;43m'\u001B[39;49m\u001B[43m]\u001B[49m, gnss_data[\u001B[38;5;124m'\u001B[39m\u001B[38;5;124mCn0DbHz\u001B[39m\u001B[38;5;124m'\u001B[39m], label\u001B[38;5;241m=\u001B[39m\u001B[38;5;124m'\u001B[39m\u001B[38;5;124mCn0DbHz\u001B[39m\u001B[38;5;124m'\u001B[39m)\n\u001B[1;32m      4\u001B[0m plt\u001B[38;5;241m.\u001B[39mxlabel(\u001B[38;5;124m'\u001B[39m\u001B[38;5;124mTime (Unix Time in Milliseconds)\u001B[39m\u001B[38;5;124m'\u001B[39m)\n\u001B[1;32m      5\u001B[0m plt\u001B[38;5;241m.\u001B[39mylabel(\u001B[38;5;124m'\u001B[39m\u001B[38;5;124mCn0DbHz\u001B[39m\u001B[38;5;124m'\u001B[39m)\n",
      "File \u001B[0;32m~/DataspellProjects/GNSS_positioning_precition/env/lib/python3.10/site-packages/pandas/core/frame.py:3896\u001B[0m, in \u001B[0;36mDataFrame.__getitem__\u001B[0;34m(self, key)\u001B[0m\n\u001B[1;32m   3894\u001B[0m \u001B[38;5;28;01mif\u001B[39;00m \u001B[38;5;28mself\u001B[39m\u001B[38;5;241m.\u001B[39mcolumns\u001B[38;5;241m.\u001B[39mnlevels \u001B[38;5;241m>\u001B[39m \u001B[38;5;241m1\u001B[39m:\n\u001B[1;32m   3895\u001B[0m     \u001B[38;5;28;01mreturn\u001B[39;00m \u001B[38;5;28mself\u001B[39m\u001B[38;5;241m.\u001B[39m_getitem_multilevel(key)\n\u001B[0;32m-> 3896\u001B[0m indexer \u001B[38;5;241m=\u001B[39m \u001B[38;5;28;43mself\u001B[39;49m\u001B[38;5;241;43m.\u001B[39;49m\u001B[43mcolumns\u001B[49m\u001B[38;5;241;43m.\u001B[39;49m\u001B[43mget_loc\u001B[49m\u001B[43m(\u001B[49m\u001B[43mkey\u001B[49m\u001B[43m)\u001B[49m\n\u001B[1;32m   3897\u001B[0m \u001B[38;5;28;01mif\u001B[39;00m is_integer(indexer):\n\u001B[1;32m   3898\u001B[0m     indexer \u001B[38;5;241m=\u001B[39m [indexer]\n",
      "File \u001B[0;32m~/DataspellProjects/GNSS_positioning_precition/env/lib/python3.10/site-packages/pandas/core/indexes/base.py:3797\u001B[0m, in \u001B[0;36mIndex.get_loc\u001B[0;34m(self, key)\u001B[0m\n\u001B[1;32m   3792\u001B[0m     \u001B[38;5;28;01mif\u001B[39;00m \u001B[38;5;28misinstance\u001B[39m(casted_key, \u001B[38;5;28mslice\u001B[39m) \u001B[38;5;129;01mor\u001B[39;00m (\n\u001B[1;32m   3793\u001B[0m         \u001B[38;5;28misinstance\u001B[39m(casted_key, abc\u001B[38;5;241m.\u001B[39mIterable)\n\u001B[1;32m   3794\u001B[0m         \u001B[38;5;129;01mand\u001B[39;00m \u001B[38;5;28many\u001B[39m(\u001B[38;5;28misinstance\u001B[39m(x, \u001B[38;5;28mslice\u001B[39m) \u001B[38;5;28;01mfor\u001B[39;00m x \u001B[38;5;129;01min\u001B[39;00m casted_key)\n\u001B[1;32m   3795\u001B[0m     ):\n\u001B[1;32m   3796\u001B[0m         \u001B[38;5;28;01mraise\u001B[39;00m InvalidIndexError(key)\n\u001B[0;32m-> 3797\u001B[0m     \u001B[38;5;28;01mraise\u001B[39;00m \u001B[38;5;167;01mKeyError\u001B[39;00m(key) \u001B[38;5;28;01mfrom\u001B[39;00m \u001B[38;5;21;01merr\u001B[39;00m\n\u001B[1;32m   3798\u001B[0m \u001B[38;5;28;01mexcept\u001B[39;00m \u001B[38;5;167;01mTypeError\u001B[39;00m:\n\u001B[1;32m   3799\u001B[0m     \u001B[38;5;66;03m# If we have a listlike key, _check_indexing_error will raise\u001B[39;00m\n\u001B[1;32m   3800\u001B[0m     \u001B[38;5;66;03m#  InvalidIndexError. Otherwise we fall through and re-raise\u001B[39;00m\n\u001B[1;32m   3801\u001B[0m     \u001B[38;5;66;03m#  the TypeError.\u001B[39;00m\n\u001B[1;32m   3802\u001B[0m     \u001B[38;5;28mself\u001B[39m\u001B[38;5;241m.\u001B[39m_check_indexing_error(key)\n",
      "\u001B[0;31mKeyError\u001B[0m: 'UnixTimeMillis'"
     ]
    },
    {
     "data": {
      "text/plain": "<Figure size 1200x600 with 0 Axes>"
     },
     "metadata": {},
     "output_type": "display_data"
    }
   ],
   "source": [
    "# Plot GNSS data (you may want to choose specific columns for plotting)\n",
    "plt.figure(figsize=(12, 6))\n",
    "plt.plot(gnss_data['UnixTimeMillis'], gnss_data['Cn0DbHz'], label='Cn0DbHz')\n",
    "plt.xlabel('Time (Unix Time in Milliseconds)')\n",
    "plt.ylabel('Cn0DbHz')\n",
    "plt.title('Cn0DbHz Over Time')\n",
    "plt.legend()\n",
    "plt.grid()\n",
    "plt.show()"
   ],
   "metadata": {
    "collapsed": false,
    "ExecuteTime": {
     "end_time": "2023-10-23T06:35:55.691712Z",
     "start_time": "2023-10-23T06:35:55.191914Z"
    }
   }
  },
  {
   "cell_type": "code",
   "execution_count": null,
   "outputs": [],
   "source": [],
   "metadata": {
    "collapsed": false
   }
  }
 ],
 "metadata": {
  "kernelspec": {
   "display_name": "Python 3",
   "language": "python",
   "name": "python3"
  },
  "language_info": {
   "codemirror_mode": {
    "name": "ipython",
    "version": 2
   },
   "file_extension": ".py",
   "mimetype": "text/x-python",
   "name": "python",
   "nbconvert_exporter": "python",
   "pygments_lexer": "ipython2",
   "version": "2.7.6"
  }
 },
 "nbformat": 4,
 "nbformat_minor": 0
}
