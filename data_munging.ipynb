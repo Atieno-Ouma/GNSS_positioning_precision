{
 "cells": [
  {
   "cell_type": "code",
   "execution_count": 1,
   "metadata": {
    "collapsed": true,
    "ExecuteTime": {
     "end_time": "2023-10-19T12:17:07.434803Z",
     "start_time": "2023-10-19T12:17:07.014878Z"
    }
   },
   "outputs": [],
   "source": [
    "import pandas as pd\n",
    "import os"
   ]
  },
  {
   "cell_type": "code",
   "execution_count": 7,
   "outputs": [
    {
     "name": "stdout",
     "output_type": "stream",
     "text": [
      "Datasets/sdc2023/\n"
     ]
    }
   ],
   "source": [
    "dataset_path = \"Datasets/sdc2023/\"\n",
    "print(dataset_path)"
   ],
   "metadata": {
    "collapsed": false,
    "ExecuteTime": {
     "end_time": "2023-10-19T12:17:30.487846Z",
     "start_time": "2023-10-19T12:17:30.471413Z"
    }
   }
  },
  {
   "cell_type": "code",
   "execution_count": 8,
   "outputs": [],
   "source": [
    "def load_ground_truth(drive_id, phone_name):\n",
    "    file_path = os.path.join(dataset_path, \"train\", drive_id, phone_name, \"ground_truth.csv\")\n",
    "    return pd.read_csv(file_path)"
   ],
   "metadata": {
    "collapsed": false,
    "ExecuteTime": {
     "end_time": "2023-10-19T12:17:31.333392Z",
     "start_time": "2023-10-19T12:17:31.330399Z"
    }
   }
  },
  {
   "cell_type": "code",
   "execution_count": 9,
   "outputs": [],
   "source": [
    "def load_gnss_data(drive_id, phone_name):\n",
    "    file_path = os.path.join(dataset_path, \"train\", drive_id, phone_name, \"device_gnss.csv\")\n",
    "    return pd.read_csv(file_path)"
   ],
   "metadata": {
    "collapsed": false,
    "ExecuteTime": {
     "end_time": "2023-10-19T12:17:31.867864Z",
     "start_time": "2023-10-19T12:17:31.862943Z"
    }
   }
  },
  {
   "cell_type": "code",
   "execution_count": 10,
   "outputs": [],
   "source": [
    "def load_imu_data(drive_id, phone_name):\n",
    "    file_path = os.path.join(dataset_path, \"train\", drive_id, phone_name, \"device_imu.csv\")\n",
    "    return pd.read_csv(file_path)"
   ],
   "metadata": {
    "collapsed": false,
    "ExecuteTime": {
     "end_time": "2023-10-19T12:17:33.511367Z",
     "start_time": "2023-10-19T12:17:33.506653Z"
    }
   }
  },
  {
   "cell_type": "code",
   "execution_count": 11,
   "outputs": [],
   "source": [
    "drive_ids = os.listdir(os.path.join(dataset_path, \"train\"))\n",
    "phone_names = os.listdir(os.path.join(dataset_path, \"train\", drive_ids[0]))\n"
   ],
   "metadata": {
    "collapsed": false,
    "ExecuteTime": {
     "end_time": "2023-10-19T12:17:34.341007Z",
     "start_time": "2023-10-19T12:17:34.330827Z"
    }
   }
  },
  {
   "cell_type": "code",
   "execution_count": null,
   "outputs": [],
   "source": [
    "selected_drive_id = drive_ids[0]\n",
    "selected_phone_name = phone_names[0]"
   ],
   "metadata": {
    "collapsed": false
   }
  },
  {
   "cell_type": "code",
   "execution_count": null,
   "outputs": [],
   "source": [
    "ground_truth_data = load_ground_truth(selected_drive_id, selected_phone_name)\n",
    "gnss_data = load_gnss_data(selected_drive_id, selected_phone_name)\n",
    "imu_data = load_imu_data(selected_drive_id, selected_phone_name)"
   ],
   "metadata": {
    "collapsed": false
   }
  },
  {
   "cell_type": "code",
   "execution_count": null,
   "outputs": [],
   "source": [
    "print(\"Ground Truth Data:\")\n",
    "print(ground_truth_data.head())"
   ],
   "metadata": {
    "collapsed": false
   }
  },
  {
   "cell_type": "code",
   "execution_count": null,
   "outputs": [],
   "source": [
    "print(\"\\nGNSS Data:\")\n",
    "print(gnss_data.head())"
   ],
   "metadata": {
    "collapsed": false
   }
  },
  {
   "cell_type": "code",
   "execution_count": null,
   "outputs": [],
   "source": [
    "print(\"\\nIMU Data:\")\n",
    "print(imu_data.head())"
   ],
   "metadata": {
    "collapsed": false
   }
  }
 ],
 "metadata": {
  "kernelspec": {
   "display_name": "Python 3",
   "language": "python",
   "name": "python3"
  },
  "language_info": {
   "codemirror_mode": {
    "name": "ipython",
    "version": 2
   },
   "file_extension": ".py",
   "mimetype": "text/x-python",
   "name": "python",
   "nbconvert_exporter": "python",
   "pygments_lexer": "ipython2",
   "version": "2.7.6"
  }
 },
 "nbformat": 4,
 "nbformat_minor": 0
}
